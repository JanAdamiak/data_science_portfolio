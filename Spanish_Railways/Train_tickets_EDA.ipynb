{
 "cells": [
  {
   "cell_type": "markdown",
   "metadata": {},
   "source": [
    "#  EDA for prices of train tickets for Spanish Railways\n",
    "\n",
    "\n",
    "This project's main purpose is to improve my Seaborn visualisation skills and experiment with the XGBoost library.\n",
    "\n",
    "The dataset for this project was obtained from Kaggle, it has been deleted since then.\n",
    "## Data preparation"
   ]
  },
  {
   "cell_type": "code",
   "execution_count": 1,
   "metadata": {},
   "outputs": [
    {
     "name": "stdout",
     "output_type": "stream",
     "text": [
      "Train tickets dataset has 2579771 data points with 10 variables each.\n"
     ]
    }
   ],
   "source": [
    "#Libraries necessary for the data analysis and visualisations.\n",
    "import pandas as pd\n",
    "import numpy as np\n",
    "import matplotlib.pyplot as plt\n",
    "import seaborn as sns\n",
    "from datetime import datetime\n",
    "from scipy.stats import norm\n",
    "from scipy import stats\n",
    "\n",
    "#Statistical library for regression model \n",
    "import statsmodels as sm\n",
    "\n",
    "# Pretty display for notebooks\n",
    "%matplotlib inline\n",
    "\n",
    "#Load in the data. Load all the time-series data in datetime format\n",
    "df = pd.read_csv('C:\\\\Users\\\\Jan\\\\Desktop\\\\Python\\\\renfe.csv', parse_dates=['insert_date', 'start_date', 'end_date'])\n",
    "\n",
    "#Check if loading the data worked and what the datasets dimensions are\n",
    "print('Train tickets dataset has {} data points with {} variables each.'.format(*df.shape))"
   ]
  },
  {
   "cell_type": "markdown",
   "metadata": {},
   "source": [
    "## Data cleaning\n",
    "\n",
    "Since price is the target variable, I will drop all the rows missing that value."
   ]
  },
  {
   "cell_type": "code",
   "execution_count": 2,
   "metadata": {},
   "outputs": [
    {
     "name": "stdout",
     "output_type": "stream",
     "text": [
      "<class 'pandas.core.frame.DataFrame'>\n",
      "RangeIndex: 2579771 entries, 0 to 2579770\n",
      "Data columns (total 10 columns):\n",
      "Unnamed: 0     int64\n",
      "insert_date    datetime64[ns]\n",
      "origin         object\n",
      "destination    object\n",
      "start_date     datetime64[ns]\n",
      "end_date       datetime64[ns]\n",
      "train_type     object\n",
      "price          float64\n",
      "train_class    object\n",
      "fare           object\n",
      "dtypes: datetime64[ns](3), float64(1), int64(1), object(5)\n",
      "memory usage: 196.8+ MB\n"
     ]
    }
   ],
   "source": [
    "#Check if all the columns have correct data type and how much memory does the dataset use.\n",
    "df.info()"
   ]
  },
  {
   "cell_type": "code",
   "execution_count": 3,
   "metadata": {},
   "outputs": [
    {
     "data": {
      "text/plain": [
       "Unnamed: 0      0.000000\n",
       "insert_date     0.000000\n",
       "origin          0.000000\n",
       "destination     0.000000\n",
       "start_date      0.000000\n",
       "end_date        0.000000\n",
       "train_type      0.000000\n",
       "price          12.042968\n",
       "train_class     0.374607\n",
       "fare            0.374607\n",
       "dtype: float64"
      ]
     },
     "execution_count": 3,
     "metadata": {},
     "output_type": "execute_result"
    }
   ],
   "source": [
    "#Get total percentages of missing data in the columns.\n",
    "df.isnull().mean()*100"
   ]
  },
  {
   "cell_type": "code",
   "execution_count": 4,
   "metadata": {},
   "outputs": [],
   "source": [
    "#Drop all of the missing values.\n",
    "df.dropna(inplace=True)"
   ]
  },
  {
   "cell_type": "code",
   "execution_count": 5,
   "metadata": {},
   "outputs": [],
   "source": [
    "#Drop the useless column(second index).\n",
    "df = df.drop('Unnamed: 0', 1)"
   ]
  },
  {
   "cell_type": "code",
   "execution_count": 6,
   "metadata": {},
   "outputs": [
    {
     "data": {
      "text/html": [
       "<div>\n",
       "<style scoped>\n",
       "    .dataframe tbody tr th:only-of-type {\n",
       "        vertical-align: middle;\n",
       "    }\n",
       "\n",
       "    .dataframe tbody tr th {\n",
       "        vertical-align: top;\n",
       "    }\n",
       "\n",
       "    .dataframe thead th {\n",
       "        text-align: right;\n",
       "    }\n",
       "</style>\n",
       "<table border=\"1\" class=\"dataframe\">\n",
       "  <thead>\n",
       "    <tr style=\"text-align: right;\">\n",
       "      <th></th>\n",
       "      <th>insert_date</th>\n",
       "      <th>origin</th>\n",
       "      <th>destination</th>\n",
       "      <th>start_date</th>\n",
       "      <th>end_date</th>\n",
       "      <th>train_type</th>\n",
       "      <th>price</th>\n",
       "      <th>train_class</th>\n",
       "      <th>fare</th>\n",
       "    </tr>\n",
       "  </thead>\n",
       "  <tbody>\n",
       "    <tr>\n",
       "      <th>1598916</th>\n",
       "      <td>2019-04-11 21:49:46</td>\n",
       "      <td>MADRID</td>\n",
       "      <td>BARCELONA</td>\n",
       "      <td>2019-04-18 14:00:00</td>\n",
       "      <td>2019-04-18 16:30:00</td>\n",
       "      <td>AVE</td>\n",
       "      <td>100.40</td>\n",
       "      <td>Turista</td>\n",
       "      <td>Promo</td>\n",
       "    </tr>\n",
       "    <tr>\n",
       "      <th>1598923</th>\n",
       "      <td>2019-04-11 21:49:46</td>\n",
       "      <td>MADRID</td>\n",
       "      <td>BARCELONA</td>\n",
       "      <td>2019-04-18 19:30:00</td>\n",
       "      <td>2019-04-18 22:40:00</td>\n",
       "      <td>AVE</td>\n",
       "      <td>85.10</td>\n",
       "      <td>Turista</td>\n",
       "      <td>Promo</td>\n",
       "    </tr>\n",
       "    <tr>\n",
       "      <th>1598922</th>\n",
       "      <td>2019-04-11 21:49:46</td>\n",
       "      <td>MADRID</td>\n",
       "      <td>BARCELONA</td>\n",
       "      <td>2019-04-18 19:00:00</td>\n",
       "      <td>2019-04-18 21:30:00</td>\n",
       "      <td>AVE</td>\n",
       "      <td>115.65</td>\n",
       "      <td>Preferente</td>\n",
       "      <td>Promo</td>\n",
       "    </tr>\n",
       "    <tr>\n",
       "      <th>1598921</th>\n",
       "      <td>2019-04-11 21:49:46</td>\n",
       "      <td>MADRID</td>\n",
       "      <td>BARCELONA</td>\n",
       "      <td>2019-04-18 18:30:00</td>\n",
       "      <td>2019-04-18 21:20:00</td>\n",
       "      <td>AVE</td>\n",
       "      <td>90.50</td>\n",
       "      <td>Turista Plus</td>\n",
       "      <td>Promo</td>\n",
       "    </tr>\n",
       "    <tr>\n",
       "      <th>1598920</th>\n",
       "      <td>2019-04-11 21:49:46</td>\n",
       "      <td>MADRID</td>\n",
       "      <td>BARCELONA</td>\n",
       "      <td>2019-04-18 17:30:00</td>\n",
       "      <td>2019-04-18 20:40:00</td>\n",
       "      <td>AVE</td>\n",
       "      <td>75.40</td>\n",
       "      <td>Turista</td>\n",
       "      <td>Promo</td>\n",
       "    </tr>\n",
       "    <tr>\n",
       "      <th>1598919</th>\n",
       "      <td>2019-04-11 21:49:46</td>\n",
       "      <td>MADRID</td>\n",
       "      <td>BARCELONA</td>\n",
       "      <td>2019-04-18 16:30:00</td>\n",
       "      <td>2019-04-18 19:15:00</td>\n",
       "      <td>AVE</td>\n",
       "      <td>102.15</td>\n",
       "      <td>Turista Plus</td>\n",
       "      <td>Promo</td>\n",
       "    </tr>\n",
       "    <tr>\n",
       "      <th>1598917</th>\n",
       "      <td>2019-04-11 21:49:46</td>\n",
       "      <td>MADRID</td>\n",
       "      <td>BARCELONA</td>\n",
       "      <td>2019-04-18 14:30:00</td>\n",
       "      <td>2019-04-18 17:21:00</td>\n",
       "      <td>AVE</td>\n",
       "      <td>107.70</td>\n",
       "      <td>Turista</td>\n",
       "      <td>Flexible</td>\n",
       "    </tr>\n",
       "    <tr>\n",
       "      <th>1598915</th>\n",
       "      <td>2019-04-11 21:49:46</td>\n",
       "      <td>MADRID</td>\n",
       "      <td>BARCELONA</td>\n",
       "      <td>2019-04-18 13:25:00</td>\n",
       "      <td>2019-04-18 16:24:00</td>\n",
       "      <td>AVE-TGV</td>\n",
       "      <td>107.70</td>\n",
       "      <td>Turista</td>\n",
       "      <td>Flexible</td>\n",
       "    </tr>\n",
       "    <tr>\n",
       "      <th>1598924</th>\n",
       "      <td>2019-04-11 21:49:46</td>\n",
       "      <td>MADRID</td>\n",
       "      <td>BARCELONA</td>\n",
       "      <td>2019-04-18 20:30:00</td>\n",
       "      <td>2019-04-18 23:40:00</td>\n",
       "      <td>AVE</td>\n",
       "      <td>85.10</td>\n",
       "      <td>Turista</td>\n",
       "      <td>Promo</td>\n",
       "    </tr>\n",
       "    <tr>\n",
       "      <th>1598914</th>\n",
       "      <td>2019-04-11 21:49:46</td>\n",
       "      <td>MADRID</td>\n",
       "      <td>BARCELONA</td>\n",
       "      <td>2019-04-18 12:30:00</td>\n",
       "      <td>2019-04-18 15:30:00</td>\n",
       "      <td>AVE</td>\n",
       "      <td>107.70</td>\n",
       "      <td>Turista</td>\n",
       "      <td>Flexible</td>\n",
       "    </tr>\n",
       "    <tr>\n",
       "      <th>1598912</th>\n",
       "      <td>2019-04-11 21:49:46</td>\n",
       "      <td>MADRID</td>\n",
       "      <td>BARCELONA</td>\n",
       "      <td>2019-04-18 10:30:00</td>\n",
       "      <td>2019-04-18 13:15:00</td>\n",
       "      <td>AVE</td>\n",
       "      <td>102.15</td>\n",
       "      <td>Turista Plus</td>\n",
       "      <td>Promo</td>\n",
       "    </tr>\n",
       "    <tr>\n",
       "      <th>1598911</th>\n",
       "      <td>2019-04-11 21:49:46</td>\n",
       "      <td>MADRID</td>\n",
       "      <td>BARCELONA</td>\n",
       "      <td>2019-04-18 09:30:00</td>\n",
       "      <td>2019-04-18 12:34:00</td>\n",
       "      <td>AVE</td>\n",
       "      <td>107.70</td>\n",
       "      <td>Turista</td>\n",
       "      <td>Flexible</td>\n",
       "    </tr>\n",
       "    <tr>\n",
       "      <th>1598910</th>\n",
       "      <td>2019-04-11 21:49:46</td>\n",
       "      <td>MADRID</td>\n",
       "      <td>BARCELONA</td>\n",
       "      <td>2019-04-18 08:30:00</td>\n",
       "      <td>2019-04-18 11:15:00</td>\n",
       "      <td>AVE</td>\n",
       "      <td>107.70</td>\n",
       "      <td>Turista</td>\n",
       "      <td>Flexible</td>\n",
       "    </tr>\n",
       "    <tr>\n",
       "      <th>1598909</th>\n",
       "      <td>2019-04-11 21:49:46</td>\n",
       "      <td>MADRID</td>\n",
       "      <td>BARCELONA</td>\n",
       "      <td>2019-04-18 08:00:00</td>\n",
       "      <td>2019-04-18 10:30:00</td>\n",
       "      <td>AVE</td>\n",
       "      <td>88.95</td>\n",
       "      <td>Turista</td>\n",
       "      <td>Promo</td>\n",
       "    </tr>\n",
       "    <tr>\n",
       "      <th>1598908</th>\n",
       "      <td>2019-04-11 21:49:46</td>\n",
       "      <td>MADRID</td>\n",
       "      <td>BARCELONA</td>\n",
       "      <td>2019-04-18 07:30:00</td>\n",
       "      <td>2019-04-18 10:40:00</td>\n",
       "      <td>AVE</td>\n",
       "      <td>90.50</td>\n",
       "      <td>Turista Plus</td>\n",
       "      <td>Promo</td>\n",
       "    </tr>\n",
       "    <tr>\n",
       "      <th>1598907</th>\n",
       "      <td>2019-04-11 21:49:46</td>\n",
       "      <td>MADRID</td>\n",
       "      <td>BARCELONA</td>\n",
       "      <td>2019-04-18 07:00:00</td>\n",
       "      <td>2019-04-18 09:30:00</td>\n",
       "      <td>AVE</td>\n",
       "      <td>106.75</td>\n",
       "      <td>Turista Plus</td>\n",
       "      <td>Promo</td>\n",
       "    </tr>\n",
       "    <tr>\n",
       "      <th>1598906</th>\n",
       "      <td>2019-04-11 21:49:46</td>\n",
       "      <td>MADRID</td>\n",
       "      <td>BARCELONA</td>\n",
       "      <td>2019-04-18 06:30:00</td>\n",
       "      <td>2019-04-18 09:20:00</td>\n",
       "      <td>AVE</td>\n",
       "      <td>75.40</td>\n",
       "      <td>Turista</td>\n",
       "      <td>Promo</td>\n",
       "    </tr>\n",
       "    <tr>\n",
       "      <th>1598905</th>\n",
       "      <td>2019-04-11 21:49:46</td>\n",
       "      <td>MADRID</td>\n",
       "      <td>BARCELONA</td>\n",
       "      <td>2019-04-18 05:50:00</td>\n",
       "      <td>2019-04-18 08:55:00</td>\n",
       "      <td>AVE</td>\n",
       "      <td>68.95</td>\n",
       "      <td>Preferente</td>\n",
       "      <td>Promo</td>\n",
       "    </tr>\n",
       "    <tr>\n",
       "      <th>1598913</th>\n",
       "      <td>2019-04-11 21:49:46</td>\n",
       "      <td>MADRID</td>\n",
       "      <td>BARCELONA</td>\n",
       "      <td>2019-04-18 11:30:00</td>\n",
       "      <td>2019-04-18 14:40:00</td>\n",
       "      <td>AVE</td>\n",
       "      <td>102.15</td>\n",
       "      <td>Turista Plus</td>\n",
       "      <td>Promo</td>\n",
       "    </tr>\n",
       "    <tr>\n",
       "      <th>1598935</th>\n",
       "      <td>2019-04-11 21:49:48</td>\n",
       "      <td>MADRID</td>\n",
       "      <td>BARCELONA</td>\n",
       "      <td>2019-05-18 16:30:00</td>\n",
       "      <td>2019-05-18 19:15:00</td>\n",
       "      <td>AVE</td>\n",
       "      <td>80.15</td>\n",
       "      <td>Turista Plus</td>\n",
       "      <td>Promo</td>\n",
       "    </tr>\n",
       "    <tr>\n",
       "      <th>1598937</th>\n",
       "      <td>2019-04-11 21:49:48</td>\n",
       "      <td>MADRID</td>\n",
       "      <td>BARCELONA</td>\n",
       "      <td>2019-05-18 18:30:00</td>\n",
       "      <td>2019-05-18 21:20:00</td>\n",
       "      <td>AVE</td>\n",
       "      <td>75.40</td>\n",
       "      <td>Turista</td>\n",
       "      <td>Promo</td>\n",
       "    </tr>\n",
       "    <tr>\n",
       "      <th>1598936</th>\n",
       "      <td>2019-04-11 21:49:48</td>\n",
       "      <td>MADRID</td>\n",
       "      <td>BARCELONA</td>\n",
       "      <td>2019-05-18 17:30:00</td>\n",
       "      <td>2019-05-18 20:40:00</td>\n",
       "      <td>AVE</td>\n",
       "      <td>75.40</td>\n",
       "      <td>Turista</td>\n",
       "      <td>Promo</td>\n",
       "    </tr>\n",
       "    <tr>\n",
       "      <th>1598939</th>\n",
       "      <td>2019-04-11 21:49:48</td>\n",
       "      <td>MADRID</td>\n",
       "      <td>BARCELONA</td>\n",
       "      <td>2019-05-18 20:30:00</td>\n",
       "      <td>2019-05-18 23:40:00</td>\n",
       "      <td>AVE</td>\n",
       "      <td>69.80</td>\n",
       "      <td>Turista Plus</td>\n",
       "      <td>Promo</td>\n",
       "    </tr>\n",
       "    <tr>\n",
       "      <th>1598934</th>\n",
       "      <td>2019-04-11 21:49:48</td>\n",
       "      <td>MADRID</td>\n",
       "      <td>BARCELONA</td>\n",
       "      <td>2019-05-18 15:30:00</td>\n",
       "      <td>2019-05-18 18:40:00</td>\n",
       "      <td>AVE</td>\n",
       "      <td>86.80</td>\n",
       "      <td>Preferente</td>\n",
       "      <td>Promo</td>\n",
       "    </tr>\n",
       "    <tr>\n",
       "      <th>1598938</th>\n",
       "      <td>2019-04-11 21:49:48</td>\n",
       "      <td>MADRID</td>\n",
       "      <td>BARCELONA</td>\n",
       "      <td>2019-05-18 19:30:00</td>\n",
       "      <td>2019-05-18 22:40:00</td>\n",
       "      <td>AVE</td>\n",
       "      <td>49.15</td>\n",
       "      <td>Turista Plus</td>\n",
       "      <td>Promo</td>\n",
       "    </tr>\n",
       "    <tr>\n",
       "      <th>1598933</th>\n",
       "      <td>2019-04-11 21:49:48</td>\n",
       "      <td>MADRID</td>\n",
       "      <td>BARCELONA</td>\n",
       "      <td>2019-05-18 13:25:00</td>\n",
       "      <td>2019-05-18 16:24:00</td>\n",
       "      <td>AVE-TGV</td>\n",
       "      <td>75.40</td>\n",
       "      <td>Turista</td>\n",
       "      <td>Promo</td>\n",
       "    </tr>\n",
       "    <tr>\n",
       "      <th>1598928</th>\n",
       "      <td>2019-04-11 21:49:48</td>\n",
       "      <td>MADRID</td>\n",
       "      <td>BARCELONA</td>\n",
       "      <td>2019-05-18 08:30:00</td>\n",
       "      <td>2019-05-18 11:15:00</td>\n",
       "      <td>AVE</td>\n",
       "      <td>85.10</td>\n",
       "      <td>Turista</td>\n",
       "      <td>Promo</td>\n",
       "    </tr>\n",
       "    <tr>\n",
       "      <th>1598931</th>\n",
       "      <td>2019-04-11 21:49:48</td>\n",
       "      <td>MADRID</td>\n",
       "      <td>BARCELONA</td>\n",
       "      <td>2019-05-18 11:30:00</td>\n",
       "      <td>2019-05-18 14:40:00</td>\n",
       "      <td>AVE</td>\n",
       "      <td>75.40</td>\n",
       "      <td>Turista</td>\n",
       "      <td>Promo</td>\n",
       "    </tr>\n",
       "    <tr>\n",
       "      <th>1598930</th>\n",
       "      <td>2019-04-11 21:49:48</td>\n",
       "      <td>MADRID</td>\n",
       "      <td>BARCELONA</td>\n",
       "      <td>2019-05-18 10:30:00</td>\n",
       "      <td>2019-05-18 13:15:00</td>\n",
       "      <td>AVE</td>\n",
       "      <td>75.40</td>\n",
       "      <td>Turista</td>\n",
       "      <td>Promo</td>\n",
       "    </tr>\n",
       "    <tr>\n",
       "      <th>1598929</th>\n",
       "      <td>2019-04-11 21:49:48</td>\n",
       "      <td>MADRID</td>\n",
       "      <td>BARCELONA</td>\n",
       "      <td>2019-05-18 09:30:00</td>\n",
       "      <td>2019-05-18 12:34:00</td>\n",
       "      <td>AVE</td>\n",
       "      <td>85.10</td>\n",
       "      <td>Turista</td>\n",
       "      <td>Promo</td>\n",
       "    </tr>\n",
       "    <tr>\n",
       "      <th>...</th>\n",
       "      <td>...</td>\n",
       "      <td>...</td>\n",
       "      <td>...</td>\n",
       "      <td>...</td>\n",
       "      <td>...</td>\n",
       "      <td>...</td>\n",
       "      <td>...</td>\n",
       "      <td>...</td>\n",
       "      <td>...</td>\n",
       "    </tr>\n",
       "    <tr>\n",
       "      <th>1597181</th>\n",
       "      <td>2019-05-09 21:19:13</td>\n",
       "      <td>BARCELONA</td>\n",
       "      <td>MADRID</td>\n",
       "      <td>2019-06-01 09:00:00</td>\n",
       "      <td>2019-06-01 11:45:00</td>\n",
       "      <td>AVE</td>\n",
       "      <td>129.30</td>\n",
       "      <td>Turista Plus</td>\n",
       "      <td>Flexible</td>\n",
       "    </tr>\n",
       "    <tr>\n",
       "      <th>1597183</th>\n",
       "      <td>2019-05-09 21:19:13</td>\n",
       "      <td>BARCELONA</td>\n",
       "      <td>MADRID</td>\n",
       "      <td>2019-06-01 10:00:00</td>\n",
       "      <td>2019-06-01 13:10:00</td>\n",
       "      <td>AVE</td>\n",
       "      <td>107.70</td>\n",
       "      <td>Turista</td>\n",
       "      <td>Flexible</td>\n",
       "    </tr>\n",
       "    <tr>\n",
       "      <th>1597179</th>\n",
       "      <td>2019-05-09 21:19:13</td>\n",
       "      <td>BARCELONA</td>\n",
       "      <td>MADRID</td>\n",
       "      <td>2019-06-01 08:00:00</td>\n",
       "      <td>2019-06-01 11:10:00</td>\n",
       "      <td>AVE</td>\n",
       "      <td>107.70</td>\n",
       "      <td>Turista</td>\n",
       "      <td>Flexible</td>\n",
       "    </tr>\n",
       "    <tr>\n",
       "      <th>1597222</th>\n",
       "      <td>2019-05-09 21:19:16</td>\n",
       "      <td>BARCELONA</td>\n",
       "      <td>MADRID</td>\n",
       "      <td>2019-05-31 21:25:00</td>\n",
       "      <td>2019-05-31 23:55:00</td>\n",
       "      <td>AVE</td>\n",
       "      <td>85.10</td>\n",
       "      <td>Turista</td>\n",
       "      <td>Promo</td>\n",
       "    </tr>\n",
       "    <tr>\n",
       "      <th>1597221</th>\n",
       "      <td>2019-05-09 21:19:16</td>\n",
       "      <td>BARCELONA</td>\n",
       "      <td>MADRID</td>\n",
       "      <td>2019-05-31 21:00:00</td>\n",
       "      <td>2019-06-01 00:02:00</td>\n",
       "      <td>AVE</td>\n",
       "      <td>90.50</td>\n",
       "      <td>Turista Plus</td>\n",
       "      <td>Promo</td>\n",
       "    </tr>\n",
       "    <tr>\n",
       "      <th>1597220</th>\n",
       "      <td>2019-05-09 21:19:16</td>\n",
       "      <td>BARCELONA</td>\n",
       "      <td>MADRID</td>\n",
       "      <td>2019-05-31 20:00:00</td>\n",
       "      <td>2019-05-31 23:10:00</td>\n",
       "      <td>AVE</td>\n",
       "      <td>85.10</td>\n",
       "      <td>Turista</td>\n",
       "      <td>Promo</td>\n",
       "    </tr>\n",
       "    <tr>\n",
       "      <th>1597219</th>\n",
       "      <td>2019-05-09 21:19:16</td>\n",
       "      <td>BARCELONA</td>\n",
       "      <td>MADRID</td>\n",
       "      <td>2019-05-31 19:25:00</td>\n",
       "      <td>2019-05-31 21:55:00</td>\n",
       "      <td>AVE</td>\n",
       "      <td>127.10</td>\n",
       "      <td>Turista</td>\n",
       "      <td>Flexible</td>\n",
       "    </tr>\n",
       "    <tr>\n",
       "      <th>1597218</th>\n",
       "      <td>2019-05-09 21:19:16</td>\n",
       "      <td>BARCELONA</td>\n",
       "      <td>MADRID</td>\n",
       "      <td>2019-05-31 19:00:00</td>\n",
       "      <td>2019-05-31 22:00:00</td>\n",
       "      <td>AVE</td>\n",
       "      <td>102.15</td>\n",
       "      <td>Turista Plus</td>\n",
       "      <td>Promo</td>\n",
       "    </tr>\n",
       "    <tr>\n",
       "      <th>1597217</th>\n",
       "      <td>2019-05-09 21:19:16</td>\n",
       "      <td>BARCELONA</td>\n",
       "      <td>MADRID</td>\n",
       "      <td>2019-05-31 18:25:00</td>\n",
       "      <td>2019-05-31 20:55:00</td>\n",
       "      <td>AVE</td>\n",
       "      <td>120.50</td>\n",
       "      <td>Turista Plus</td>\n",
       "      <td>Promo</td>\n",
       "    </tr>\n",
       "    <tr>\n",
       "      <th>1597216</th>\n",
       "      <td>2019-05-09 21:19:16</td>\n",
       "      <td>BARCELONA</td>\n",
       "      <td>MADRID</td>\n",
       "      <td>2019-05-31 18:00:00</td>\n",
       "      <td>2019-05-31 21:10:00</td>\n",
       "      <td>AVE</td>\n",
       "      <td>107.70</td>\n",
       "      <td>Turista</td>\n",
       "      <td>Flexible</td>\n",
       "    </tr>\n",
       "    <tr>\n",
       "      <th>1597215</th>\n",
       "      <td>2019-05-09 21:19:16</td>\n",
       "      <td>BARCELONA</td>\n",
       "      <td>MADRID</td>\n",
       "      <td>2019-05-31 17:25:00</td>\n",
       "      <td>2019-05-31 19:55:00</td>\n",
       "      <td>AVE</td>\n",
       "      <td>115.65</td>\n",
       "      <td>Preferente</td>\n",
       "      <td>Promo</td>\n",
       "    </tr>\n",
       "    <tr>\n",
       "      <th>1597214</th>\n",
       "      <td>2019-05-09 21:19:16</td>\n",
       "      <td>BARCELONA</td>\n",
       "      <td>MADRID</td>\n",
       "      <td>2019-05-31 17:00:00</td>\n",
       "      <td>2019-05-31 19:45:00</td>\n",
       "      <td>AVE</td>\n",
       "      <td>107.70</td>\n",
       "      <td>Turista</td>\n",
       "      <td>Flexible</td>\n",
       "    </tr>\n",
       "    <tr>\n",
       "      <th>1597213</th>\n",
       "      <td>2019-05-09 21:19:16</td>\n",
       "      <td>BARCELONA</td>\n",
       "      <td>MADRID</td>\n",
       "      <td>2019-05-31 16:25:00</td>\n",
       "      <td>2019-05-31 18:55:00</td>\n",
       "      <td>AVE</td>\n",
       "      <td>127.10</td>\n",
       "      <td>Turista</td>\n",
       "      <td>Flexible</td>\n",
       "    </tr>\n",
       "    <tr>\n",
       "      <th>1597212</th>\n",
       "      <td>2019-05-09 21:19:16</td>\n",
       "      <td>BARCELONA</td>\n",
       "      <td>MADRID</td>\n",
       "      <td>2019-05-31 16:00:00</td>\n",
       "      <td>2019-05-31 19:10:00</td>\n",
       "      <td>AVE</td>\n",
       "      <td>107.70</td>\n",
       "      <td>Turista</td>\n",
       "      <td>Flexible</td>\n",
       "    </tr>\n",
       "    <tr>\n",
       "      <th>1597211</th>\n",
       "      <td>2019-05-09 21:19:16</td>\n",
       "      <td>BARCELONA</td>\n",
       "      <td>MADRID</td>\n",
       "      <td>2019-05-31 15:25:00</td>\n",
       "      <td>2019-05-31 17:55:00</td>\n",
       "      <td>AVE</td>\n",
       "      <td>120.50</td>\n",
       "      <td>Turista Plus</td>\n",
       "      <td>Promo</td>\n",
       "    </tr>\n",
       "    <tr>\n",
       "      <th>1597209</th>\n",
       "      <td>2019-05-09 21:19:16</td>\n",
       "      <td>BARCELONA</td>\n",
       "      <td>MADRID</td>\n",
       "      <td>2019-05-31 14:00:00</td>\n",
       "      <td>2019-05-31 17:10:00</td>\n",
       "      <td>AVE</td>\n",
       "      <td>102.15</td>\n",
       "      <td>Turista Plus</td>\n",
       "      <td>Promo</td>\n",
       "    </tr>\n",
       "    <tr>\n",
       "      <th>1597208</th>\n",
       "      <td>2019-05-09 21:19:16</td>\n",
       "      <td>BARCELONA</td>\n",
       "      <td>MADRID</td>\n",
       "      <td>2019-05-31 13:25:00</td>\n",
       "      <td>2019-05-31 16:10:00</td>\n",
       "      <td>AVE</td>\n",
       "      <td>107.70</td>\n",
       "      <td>Turista</td>\n",
       "      <td>Flexible</td>\n",
       "    </tr>\n",
       "    <tr>\n",
       "      <th>1597207</th>\n",
       "      <td>2019-05-09 21:19:16</td>\n",
       "      <td>BARCELONA</td>\n",
       "      <td>MADRID</td>\n",
       "      <td>2019-05-31 12:50:00</td>\n",
       "      <td>2019-05-31 15:45:00</td>\n",
       "      <td>AVE-TGV</td>\n",
       "      <td>107.70</td>\n",
       "      <td>Turista</td>\n",
       "      <td>Flexible</td>\n",
       "    </tr>\n",
       "    <tr>\n",
       "      <th>1597205</th>\n",
       "      <td>2019-05-09 21:19:16</td>\n",
       "      <td>BARCELONA</td>\n",
       "      <td>MADRID</td>\n",
       "      <td>2019-05-31 11:00:00</td>\n",
       "      <td>2019-05-31 13:45:00</td>\n",
       "      <td>AVE</td>\n",
       "      <td>107.70</td>\n",
       "      <td>Turista</td>\n",
       "      <td>Flexible</td>\n",
       "    </tr>\n",
       "    <tr>\n",
       "      <th>1597204</th>\n",
       "      <td>2019-05-09 21:19:16</td>\n",
       "      <td>BARCELONA</td>\n",
       "      <td>MADRID</td>\n",
       "      <td>2019-05-31 10:00:00</td>\n",
       "      <td>2019-05-31 13:10:00</td>\n",
       "      <td>AVE</td>\n",
       "      <td>85.10</td>\n",
       "      <td>Turista</td>\n",
       "      <td>Promo</td>\n",
       "    </tr>\n",
       "    <tr>\n",
       "      <th>1597203</th>\n",
       "      <td>2019-05-09 21:19:16</td>\n",
       "      <td>BARCELONA</td>\n",
       "      <td>MADRID</td>\n",
       "      <td>2019-05-31 09:03:00</td>\n",
       "      <td>2019-05-31 18:07:00</td>\n",
       "      <td>R. EXPRES</td>\n",
       "      <td>43.25</td>\n",
       "      <td>Turista</td>\n",
       "      <td>Adulto ida</td>\n",
       "    </tr>\n",
       "    <tr>\n",
       "      <th>1597202</th>\n",
       "      <td>2019-05-09 21:19:16</td>\n",
       "      <td>BARCELONA</td>\n",
       "      <td>MADRID</td>\n",
       "      <td>2019-05-31 09:00:00</td>\n",
       "      <td>2019-05-31 11:45:00</td>\n",
       "      <td>AVE</td>\n",
       "      <td>85.10</td>\n",
       "      <td>Turista</td>\n",
       "      <td>Promo</td>\n",
       "    </tr>\n",
       "    <tr>\n",
       "      <th>1597201</th>\n",
       "      <td>2019-05-09 21:19:16</td>\n",
       "      <td>BARCELONA</td>\n",
       "      <td>MADRID</td>\n",
       "      <td>2019-05-31 08:25:00</td>\n",
       "      <td>2019-05-31 10:55:00</td>\n",
       "      <td>AVE</td>\n",
       "      <td>88.95</td>\n",
       "      <td>Turista</td>\n",
       "      <td>Promo</td>\n",
       "    </tr>\n",
       "    <tr>\n",
       "      <th>1597200</th>\n",
       "      <td>2019-05-09 21:19:16</td>\n",
       "      <td>BARCELONA</td>\n",
       "      <td>MADRID</td>\n",
       "      <td>2019-05-31 08:00:00</td>\n",
       "      <td>2019-05-31 11:10:00</td>\n",
       "      <td>AVE</td>\n",
       "      <td>85.10</td>\n",
       "      <td>Turista</td>\n",
       "      <td>Promo</td>\n",
       "    </tr>\n",
       "    <tr>\n",
       "      <th>1597199</th>\n",
       "      <td>2019-05-09 21:19:16</td>\n",
       "      <td>BARCELONA</td>\n",
       "      <td>MADRID</td>\n",
       "      <td>2019-05-31 07:40:00</td>\n",
       "      <td>2019-05-31 10:10:00</td>\n",
       "      <td>AVE</td>\n",
       "      <td>100.40</td>\n",
       "      <td>Turista</td>\n",
       "      <td>Promo</td>\n",
       "    </tr>\n",
       "    <tr>\n",
       "      <th>1597198</th>\n",
       "      <td>2019-05-09 21:19:16</td>\n",
       "      <td>BARCELONA</td>\n",
       "      <td>MADRID</td>\n",
       "      <td>2019-05-31 07:05:00</td>\n",
       "      <td>2019-05-31 09:50:00</td>\n",
       "      <td>AVE</td>\n",
       "      <td>75.40</td>\n",
       "      <td>Turista</td>\n",
       "      <td>Promo</td>\n",
       "    </tr>\n",
       "    <tr>\n",
       "      <th>1597196</th>\n",
       "      <td>2019-05-09 21:19:16</td>\n",
       "      <td>BARCELONA</td>\n",
       "      <td>MADRID</td>\n",
       "      <td>2019-05-31 06:25:00</td>\n",
       "      <td>2019-05-31 08:55:00</td>\n",
       "      <td>AVE</td>\n",
       "      <td>82.35</td>\n",
       "      <td>Turista Plus</td>\n",
       "      <td>Promo</td>\n",
       "    </tr>\n",
       "    <tr>\n",
       "      <th>1597195</th>\n",
       "      <td>2019-05-09 21:19:16</td>\n",
       "      <td>BARCELONA</td>\n",
       "      <td>MADRID</td>\n",
       "      <td>2019-05-31 06:05:00</td>\n",
       "      <td>2019-05-31 09:15:00</td>\n",
       "      <td>AVE</td>\n",
       "      <td>58.15</td>\n",
       "      <td>Turista</td>\n",
       "      <td>Promo</td>\n",
       "    </tr>\n",
       "    <tr>\n",
       "      <th>1597210</th>\n",
       "      <td>2019-05-09 21:19:16</td>\n",
       "      <td>BARCELONA</td>\n",
       "      <td>MADRID</td>\n",
       "      <td>2019-05-31 15:00:00</td>\n",
       "      <td>2019-05-31 17:45:00</td>\n",
       "      <td>AVE</td>\n",
       "      <td>107.70</td>\n",
       "      <td>Turista</td>\n",
       "      <td>Flexible</td>\n",
       "    </tr>\n",
       "    <tr>\n",
       "      <th>1597206</th>\n",
       "      <td>2019-05-09 21:19:16</td>\n",
       "      <td>BARCELONA</td>\n",
       "      <td>MADRID</td>\n",
       "      <td>2019-05-31 12:00:00</td>\n",
       "      <td>2019-05-31 15:10:00</td>\n",
       "      <td>AVE</td>\n",
       "      <td>107.70</td>\n",
       "      <td>Turista</td>\n",
       "      <td>Flexible</td>\n",
       "    </tr>\n",
       "  </tbody>\n",
       "</table>\n",
       "<p>2269090 rows × 9 columns</p>\n",
       "</div>"
      ],
      "text/plain": [
       "                insert_date     origin destination          start_date  \\\n",
       "1598916 2019-04-11 21:49:46     MADRID   BARCELONA 2019-04-18 14:00:00   \n",
       "1598923 2019-04-11 21:49:46     MADRID   BARCELONA 2019-04-18 19:30:00   \n",
       "1598922 2019-04-11 21:49:46     MADRID   BARCELONA 2019-04-18 19:00:00   \n",
       "1598921 2019-04-11 21:49:46     MADRID   BARCELONA 2019-04-18 18:30:00   \n",
       "1598920 2019-04-11 21:49:46     MADRID   BARCELONA 2019-04-18 17:30:00   \n",
       "1598919 2019-04-11 21:49:46     MADRID   BARCELONA 2019-04-18 16:30:00   \n",
       "1598917 2019-04-11 21:49:46     MADRID   BARCELONA 2019-04-18 14:30:00   \n",
       "1598915 2019-04-11 21:49:46     MADRID   BARCELONA 2019-04-18 13:25:00   \n",
       "1598924 2019-04-11 21:49:46     MADRID   BARCELONA 2019-04-18 20:30:00   \n",
       "1598914 2019-04-11 21:49:46     MADRID   BARCELONA 2019-04-18 12:30:00   \n",
       "1598912 2019-04-11 21:49:46     MADRID   BARCELONA 2019-04-18 10:30:00   \n",
       "1598911 2019-04-11 21:49:46     MADRID   BARCELONA 2019-04-18 09:30:00   \n",
       "1598910 2019-04-11 21:49:46     MADRID   BARCELONA 2019-04-18 08:30:00   \n",
       "1598909 2019-04-11 21:49:46     MADRID   BARCELONA 2019-04-18 08:00:00   \n",
       "1598908 2019-04-11 21:49:46     MADRID   BARCELONA 2019-04-18 07:30:00   \n",
       "1598907 2019-04-11 21:49:46     MADRID   BARCELONA 2019-04-18 07:00:00   \n",
       "1598906 2019-04-11 21:49:46     MADRID   BARCELONA 2019-04-18 06:30:00   \n",
       "1598905 2019-04-11 21:49:46     MADRID   BARCELONA 2019-04-18 05:50:00   \n",
       "1598913 2019-04-11 21:49:46     MADRID   BARCELONA 2019-04-18 11:30:00   \n",
       "1598935 2019-04-11 21:49:48     MADRID   BARCELONA 2019-05-18 16:30:00   \n",
       "1598937 2019-04-11 21:49:48     MADRID   BARCELONA 2019-05-18 18:30:00   \n",
       "1598936 2019-04-11 21:49:48     MADRID   BARCELONA 2019-05-18 17:30:00   \n",
       "1598939 2019-04-11 21:49:48     MADRID   BARCELONA 2019-05-18 20:30:00   \n",
       "1598934 2019-04-11 21:49:48     MADRID   BARCELONA 2019-05-18 15:30:00   \n",
       "1598938 2019-04-11 21:49:48     MADRID   BARCELONA 2019-05-18 19:30:00   \n",
       "1598933 2019-04-11 21:49:48     MADRID   BARCELONA 2019-05-18 13:25:00   \n",
       "1598928 2019-04-11 21:49:48     MADRID   BARCELONA 2019-05-18 08:30:00   \n",
       "1598931 2019-04-11 21:49:48     MADRID   BARCELONA 2019-05-18 11:30:00   \n",
       "1598930 2019-04-11 21:49:48     MADRID   BARCELONA 2019-05-18 10:30:00   \n",
       "1598929 2019-04-11 21:49:48     MADRID   BARCELONA 2019-05-18 09:30:00   \n",
       "...                     ...        ...         ...                 ...   \n",
       "1597181 2019-05-09 21:19:13  BARCELONA      MADRID 2019-06-01 09:00:00   \n",
       "1597183 2019-05-09 21:19:13  BARCELONA      MADRID 2019-06-01 10:00:00   \n",
       "1597179 2019-05-09 21:19:13  BARCELONA      MADRID 2019-06-01 08:00:00   \n",
       "1597222 2019-05-09 21:19:16  BARCELONA      MADRID 2019-05-31 21:25:00   \n",
       "1597221 2019-05-09 21:19:16  BARCELONA      MADRID 2019-05-31 21:00:00   \n",
       "1597220 2019-05-09 21:19:16  BARCELONA      MADRID 2019-05-31 20:00:00   \n",
       "1597219 2019-05-09 21:19:16  BARCELONA      MADRID 2019-05-31 19:25:00   \n",
       "1597218 2019-05-09 21:19:16  BARCELONA      MADRID 2019-05-31 19:00:00   \n",
       "1597217 2019-05-09 21:19:16  BARCELONA      MADRID 2019-05-31 18:25:00   \n",
       "1597216 2019-05-09 21:19:16  BARCELONA      MADRID 2019-05-31 18:00:00   \n",
       "1597215 2019-05-09 21:19:16  BARCELONA      MADRID 2019-05-31 17:25:00   \n",
       "1597214 2019-05-09 21:19:16  BARCELONA      MADRID 2019-05-31 17:00:00   \n",
       "1597213 2019-05-09 21:19:16  BARCELONA      MADRID 2019-05-31 16:25:00   \n",
       "1597212 2019-05-09 21:19:16  BARCELONA      MADRID 2019-05-31 16:00:00   \n",
       "1597211 2019-05-09 21:19:16  BARCELONA      MADRID 2019-05-31 15:25:00   \n",
       "1597209 2019-05-09 21:19:16  BARCELONA      MADRID 2019-05-31 14:00:00   \n",
       "1597208 2019-05-09 21:19:16  BARCELONA      MADRID 2019-05-31 13:25:00   \n",
       "1597207 2019-05-09 21:19:16  BARCELONA      MADRID 2019-05-31 12:50:00   \n",
       "1597205 2019-05-09 21:19:16  BARCELONA      MADRID 2019-05-31 11:00:00   \n",
       "1597204 2019-05-09 21:19:16  BARCELONA      MADRID 2019-05-31 10:00:00   \n",
       "1597203 2019-05-09 21:19:16  BARCELONA      MADRID 2019-05-31 09:03:00   \n",
       "1597202 2019-05-09 21:19:16  BARCELONA      MADRID 2019-05-31 09:00:00   \n",
       "1597201 2019-05-09 21:19:16  BARCELONA      MADRID 2019-05-31 08:25:00   \n",
       "1597200 2019-05-09 21:19:16  BARCELONA      MADRID 2019-05-31 08:00:00   \n",
       "1597199 2019-05-09 21:19:16  BARCELONA      MADRID 2019-05-31 07:40:00   \n",
       "1597198 2019-05-09 21:19:16  BARCELONA      MADRID 2019-05-31 07:05:00   \n",
       "1597196 2019-05-09 21:19:16  BARCELONA      MADRID 2019-05-31 06:25:00   \n",
       "1597195 2019-05-09 21:19:16  BARCELONA      MADRID 2019-05-31 06:05:00   \n",
       "1597210 2019-05-09 21:19:16  BARCELONA      MADRID 2019-05-31 15:00:00   \n",
       "1597206 2019-05-09 21:19:16  BARCELONA      MADRID 2019-05-31 12:00:00   \n",
       "\n",
       "                   end_date train_type   price   train_class        fare  \n",
       "1598916 2019-04-18 16:30:00        AVE  100.40       Turista       Promo  \n",
       "1598923 2019-04-18 22:40:00        AVE   85.10       Turista       Promo  \n",
       "1598922 2019-04-18 21:30:00        AVE  115.65    Preferente       Promo  \n",
       "1598921 2019-04-18 21:20:00        AVE   90.50  Turista Plus       Promo  \n",
       "1598920 2019-04-18 20:40:00        AVE   75.40       Turista       Promo  \n",
       "1598919 2019-04-18 19:15:00        AVE  102.15  Turista Plus       Promo  \n",
       "1598917 2019-04-18 17:21:00        AVE  107.70       Turista    Flexible  \n",
       "1598915 2019-04-18 16:24:00    AVE-TGV  107.70       Turista    Flexible  \n",
       "1598924 2019-04-18 23:40:00        AVE   85.10       Turista       Promo  \n",
       "1598914 2019-04-18 15:30:00        AVE  107.70       Turista    Flexible  \n",
       "1598912 2019-04-18 13:15:00        AVE  102.15  Turista Plus       Promo  \n",
       "1598911 2019-04-18 12:34:00        AVE  107.70       Turista    Flexible  \n",
       "1598910 2019-04-18 11:15:00        AVE  107.70       Turista    Flexible  \n",
       "1598909 2019-04-18 10:30:00        AVE   88.95       Turista       Promo  \n",
       "1598908 2019-04-18 10:40:00        AVE   90.50  Turista Plus       Promo  \n",
       "1598907 2019-04-18 09:30:00        AVE  106.75  Turista Plus       Promo  \n",
       "1598906 2019-04-18 09:20:00        AVE   75.40       Turista       Promo  \n",
       "1598905 2019-04-18 08:55:00        AVE   68.95    Preferente       Promo  \n",
       "1598913 2019-04-18 14:40:00        AVE  102.15  Turista Plus       Promo  \n",
       "1598935 2019-05-18 19:15:00        AVE   80.15  Turista Plus       Promo  \n",
       "1598937 2019-05-18 21:20:00        AVE   75.40       Turista       Promo  \n",
       "1598936 2019-05-18 20:40:00        AVE   75.40       Turista       Promo  \n",
       "1598939 2019-05-18 23:40:00        AVE   69.80  Turista Plus       Promo  \n",
       "1598934 2019-05-18 18:40:00        AVE   86.80    Preferente       Promo  \n",
       "1598938 2019-05-18 22:40:00        AVE   49.15  Turista Plus       Promo  \n",
       "1598933 2019-05-18 16:24:00    AVE-TGV   75.40       Turista       Promo  \n",
       "1598928 2019-05-18 11:15:00        AVE   85.10       Turista       Promo  \n",
       "1598931 2019-05-18 14:40:00        AVE   75.40       Turista       Promo  \n",
       "1598930 2019-05-18 13:15:00        AVE   75.40       Turista       Promo  \n",
       "1598929 2019-05-18 12:34:00        AVE   85.10       Turista       Promo  \n",
       "...                     ...        ...     ...           ...         ...  \n",
       "1597181 2019-06-01 11:45:00        AVE  129.30  Turista Plus    Flexible  \n",
       "1597183 2019-06-01 13:10:00        AVE  107.70       Turista    Flexible  \n",
       "1597179 2019-06-01 11:10:00        AVE  107.70       Turista    Flexible  \n",
       "1597222 2019-05-31 23:55:00        AVE   85.10       Turista       Promo  \n",
       "1597221 2019-06-01 00:02:00        AVE   90.50  Turista Plus       Promo  \n",
       "1597220 2019-05-31 23:10:00        AVE   85.10       Turista       Promo  \n",
       "1597219 2019-05-31 21:55:00        AVE  127.10       Turista    Flexible  \n",
       "1597218 2019-05-31 22:00:00        AVE  102.15  Turista Plus       Promo  \n",
       "1597217 2019-05-31 20:55:00        AVE  120.50  Turista Plus       Promo  \n",
       "1597216 2019-05-31 21:10:00        AVE  107.70       Turista    Flexible  \n",
       "1597215 2019-05-31 19:55:00        AVE  115.65    Preferente       Promo  \n",
       "1597214 2019-05-31 19:45:00        AVE  107.70       Turista    Flexible  \n",
       "1597213 2019-05-31 18:55:00        AVE  127.10       Turista    Flexible  \n",
       "1597212 2019-05-31 19:10:00        AVE  107.70       Turista    Flexible  \n",
       "1597211 2019-05-31 17:55:00        AVE  120.50  Turista Plus       Promo  \n",
       "1597209 2019-05-31 17:10:00        AVE  102.15  Turista Plus       Promo  \n",
       "1597208 2019-05-31 16:10:00        AVE  107.70       Turista    Flexible  \n",
       "1597207 2019-05-31 15:45:00    AVE-TGV  107.70       Turista    Flexible  \n",
       "1597205 2019-05-31 13:45:00        AVE  107.70       Turista    Flexible  \n",
       "1597204 2019-05-31 13:10:00        AVE   85.10       Turista       Promo  \n",
       "1597203 2019-05-31 18:07:00  R. EXPRES   43.25       Turista  Adulto ida  \n",
       "1597202 2019-05-31 11:45:00        AVE   85.10       Turista       Promo  \n",
       "1597201 2019-05-31 10:55:00        AVE   88.95       Turista       Promo  \n",
       "1597200 2019-05-31 11:10:00        AVE   85.10       Turista       Promo  \n",
       "1597199 2019-05-31 10:10:00        AVE  100.40       Turista       Promo  \n",
       "1597198 2019-05-31 09:50:00        AVE   75.40       Turista       Promo  \n",
       "1597196 2019-05-31 08:55:00        AVE   82.35  Turista Plus       Promo  \n",
       "1597195 2019-05-31 09:15:00        AVE   58.15       Turista       Promo  \n",
       "1597210 2019-05-31 17:45:00        AVE  107.70       Turista    Flexible  \n",
       "1597206 2019-05-31 15:10:00        AVE  107.70       Turista    Flexible  \n",
       "\n",
       "[2269090 rows x 9 columns]"
      ]
     },
     "execution_count": 6,
     "metadata": {},
     "output_type": "execute_result"
    }
   ],
   "source": [
    "#Sort values using 'insert_date' as an index\n",
    "df.sort_values(by=['insert_date'])"
   ]
  },
  {
   "cell_type": "code",
   "execution_count": 7,
   "metadata": {},
   "outputs": [
    {
     "data": {
      "text/plain": [
       "MADRID        48.165785\n",
       "BARCELONA     19.320565\n",
       "VALENCIA      15.783288\n",
       "SEVILLA       13.931708\n",
       "PONFERRADA     2.798655\n",
       "Name: destination, dtype: float64"
      ]
     },
     "execution_count": 7,
     "metadata": {},
     "output_type": "execute_result"
    }
   ],
   "source": [
    "#Almost half of the journeys end in Madrid.\n",
    "df['destination'].value_counts()/df.shape[0]*100"
   ]
  },
  {
   "cell_type": "code",
   "execution_count": 8,
   "metadata": {},
   "outputs": [
    {
     "data": {
      "text/plain": [
       "MADRID    1176165\n",
       "Name: origin, dtype: int64"
      ]
     },
     "execution_count": 8,
     "metadata": {},
     "output_type": "execute_result"
    }
   ],
   "source": [
    "#All the journeys that don't end in Madrid originate from Madrid.\n",
    "df[df['destination'] != 'MADRID']['origin'].value_counts()"
   ]
  },
  {
   "cell_type": "markdown",
   "metadata": {},
   "source": [
    "Which means that all journeys go through Madrid. So we can make a column with all the cities except for Madrid, to make the regression model."
   ]
  },
  {
   "cell_type": "code",
   "execution_count": 9,
   "metadata": {},
   "outputs": [
    {
     "name": "stdout",
     "output_type": "stream",
     "text": [
      "Length of the new column is 2269090 and length of the dataset is 2269090\n"
     ]
    }
   ],
   "source": [
    "# Function to seperate Madrid from origin and destination.\n",
    "def journey_parser(row):\n",
    "    if row['origin'] == 'BARCELONA':\n",
    "        return 'Barcelona'\n",
    "    if row['destination'] == 'BARCELONA':\n",
    "        return 'Barcelona'\n",
    "    if row['origin'] == 'VALENCIA':\n",
    "        return 'Valencia'\n",
    "    if row['destination'] == 'VALENCIA':\n",
    "        return 'Valencia'\n",
    "    if row['origin'] == 'SEVILLA':\n",
    "        return 'Sevilla'\n",
    "    if row['destination'] == 'SEVILLA':\n",
    "        return 'Sevilla'\n",
    "    if row['origin'] == 'PONFERRADA':\n",
    "        return 'Ponferrada'\n",
    "    if row['destination'] == 'PONFERRADA':\n",
    "        return 'Ponferrada'\n",
    "\n",
    "# Apply the function.\n",
    "df = df.assign(location=df.apply(journey_parser, axis=1))\n",
    "\n",
    "# Check if there are any missing values\n",
    "print('Length of the new column is {} and length of the dataset is {}'.format(len(df['location']), df.shape[0]))"
   ]
  },
  {
   "cell_type": "markdown",
   "metadata": {},
   "source": [
    "## Data Exploration\n",
    "\n",
    "In this section I will investigate the dataset, trying to find out if any of the variables are correlated to the ticket prices.\n",
    "\n",
    "Since ticket price is our **target variable** (we are trying to predict it), I named it Y. Rest of the features are **predictors**, so I named them X. \n",
    "\n",
    "\n",
    "\n",
    "### Descriptive statistics for the ticket prices\n",
    "\n",
    "Start with calculating some descriptive statistics."
   ]
  },
  {
   "cell_type": "code",
   "execution_count": 10,
   "metadata": {},
   "outputs": [
    {
     "name": "stdout",
     "output_type": "stream",
     "text": [
      "Price statistics for Spanish Railways tickets dataset: \n",
      "\n",
      "Minimum ticket price: €15.45\n",
      "Maximum ticket price: €214.20\n",
      "Mean price of the tickets: €63.39\n",
      "Median price of the tickets €60.30\n",
      "Standard deviation of ticket prices: €25.78\n"
     ]
    }
   ],
   "source": [
    "# Could have been done with one line of code (describe), but wouldn't have been printed as neatly.\n",
    "minimum_price = np.min(df['price'])\n",
    "maximum_price = np.max(df['price'])\n",
    "mean_price = np.mean(df['price'])\n",
    "median_price = np.median(df['price'])\n",
    "std_price = np.std(df['price'])\n",
    "\n",
    "# Show the calculated statistics\n",
    "print('Price statistics for Spanish Railways tickets dataset: \\n')\n",
    "print('Minimum ticket price: €{:,.2f}'.format(minimum_price))\n",
    "print('Maximum ticket price: €{:,.2f}'.format(maximum_price))\n",
    "print('Mean price of the tickets: €{:,.2f}'.format(mean_price))\n",
    "print('Median price of the tickets €{:,.2f}'.format(median_price))\n",
    "print('Standard deviation of ticket prices: €{:,.2f}'.format(std_price))"
   ]
  },
  {
   "cell_type": "markdown",
   "metadata": {},
   "source": [
    "Some visualisations to get an idea about the dataset!"
   ]
  },
  {
   "cell_type": "code",
   "execution_count": 11,
   "metadata": {},
   "outputs": [
    {
     "data": {
      "text/plain": [
       "Barcelona     36.782543\n",
       "Valencia      29.705212\n",
       "Sevilla       27.573344\n",
       "Ponferrada     5.938901\n",
       "Name: location, dtype: float64"
      ]
     },
     "execution_count": 11,
     "metadata": {},
     "output_type": "execute_result"
    },
    {
     "data": {
      "image/png": "[encoded data removed]",
      "text/plain": [
       "<Figure size 432x288 with 1 Axes>"
      ]
     },
     "metadata": {
      "needs_background": "light"
     },
     "output_type": "display_data"
    }
   ],
   "source": [
    "# Get a count and distributions for the location column.\n",
    "sns.countplot(x = 'location',\n",
    "              data = df,\n",
    "              order = df['location'].value_counts().index)\n",
    "df['location'].value_counts()*100/df['location'].value_counts().sum()"
   ]
  },
  {
   "cell_type": "code",
   "execution_count": 12,
   "metadata": {},
   "outputs": [
    {
     "data": {
      "text/plain": [
       "AVE          73.444112\n",
       "REGIONAL      6.250171\n",
       "INTERCITY     3.829288\n",
       "ALVIA         3.482057\n",
       "AV City       2.795041\n",
       "MD-LD         1.929937\n",
       "AVE-TGV       1.442384\n",
       "R. EXPRES     1.367376\n",
       "AVE-MD        1.127721\n",
       "AVE-LD        1.094888\n",
       "LD            1.086867\n",
       "LD-MD         0.877004\n",
       "TRENHOTEL     0.786835\n",
       "MD-AVE        0.290821\n",
       "MD            0.195497\n",
       "Name: train_type, dtype: float64"
      ]
     },
     "execution_count": 12,
     "metadata": {},
     "output_type": "execute_result"
    },
    {
     "data": {
      "image/png": "[encoded data removed]",
      "text/plain": [
       "<Figure size 432x288 with 1 Axes>"
      ]
     },
     "metadata": {
      "needs_background": "light"
     },
     "output_type": "display_data"
    }
   ],
   "source": [
    "# Get a count and distributions for the train_type column.\n",
    "sns.countplot(y = 'train_type',\n",
    "              data = df,\n",
    "              order = df['train_type'].value_counts().index)\n",
    "df['train_type'].value_counts()*100/df['train_type'].value_counts().sum()"
   ]
  },
  {
   "cell_type": "code",
   "execution_count": 13,
   "metadata": {},
   "outputs": [
    {
     "data": {
      "text/html": [
       "<div>\n",
       "<style scoped>\n",
       "    .dataframe tbody tr th:only-of-type {\n",
       "        vertical-align: middle;\n",
       "    }\n",
       "\n",
       "    .dataframe tbody tr th {\n",
       "        vertical-align: top;\n",
       "    }\n",
       "\n",
       "    .dataframe thead th {\n",
       "        text-align: right;\n",
       "    }\n",
       "</style>\n",
       "<table border=\"1\" class=\"dataframe\">\n",
       "  <thead>\n",
       "    <tr style=\"text-align: right;\">\n",
       "      <th></th>\n",
       "      <th>insert_date</th>\n",
       "      <th>origin</th>\n",
       "      <th>destination</th>\n",
       "      <th>start_date</th>\n",
       "      <th>end_date</th>\n",
       "      <th>train_type</th>\n",
       "      <th>price</th>\n",
       "      <th>train_class</th>\n",
       "      <th>fare</th>\n",
       "      <th>location</th>\n",
       "    </tr>\n",
       "  </thead>\n",
       "  <tbody>\n",
       "    <tr>\n",
       "      <th>0</th>\n",
       "      <td>2019-04-19 05:31:43</td>\n",
       "      <td>MADRID</td>\n",
       "      <td>SEVILLA</td>\n",
       "      <td>2019-05-29 06:20:00</td>\n",
       "      <td>2019-05-29 09:16:00</td>\n",
       "      <td>AV City</td>\n",
       "      <td>38.55</td>\n",
       "      <td>2nd class</td>\n",
       "      <td>Promo</td>\n",
       "      <td>Sevilla</td>\n",
       "    </tr>\n",
       "    <tr>\n",
       "      <th>1</th>\n",
       "      <td>2019-04-19 05:31:43</td>\n",
       "      <td>MADRID</td>\n",
       "      <td>SEVILLA</td>\n",
       "      <td>2019-05-29 07:00:00</td>\n",
       "      <td>2019-05-29 09:32:00</td>\n",
       "      <td>AVE</td>\n",
       "      <td>53.40</td>\n",
       "      <td>2nd class</td>\n",
       "      <td>Promo</td>\n",
       "      <td>Sevilla</td>\n",
       "    </tr>\n",
       "    <tr>\n",
       "      <th>2</th>\n",
       "      <td>2019-04-19 05:31:43</td>\n",
       "      <td>MADRID</td>\n",
       "      <td>SEVILLA</td>\n",
       "      <td>2019-05-29 07:30:00</td>\n",
       "      <td>2019-05-29 09:51:00</td>\n",
       "      <td>AVE</td>\n",
       "      <td>47.30</td>\n",
       "      <td>2nd class</td>\n",
       "      <td>Promo</td>\n",
       "      <td>Sevilla</td>\n",
       "    </tr>\n",
       "    <tr>\n",
       "      <th>3</th>\n",
       "      <td>2019-04-19 05:31:43</td>\n",
       "      <td>MADRID</td>\n",
       "      <td>SEVILLA</td>\n",
       "      <td>2019-05-29 08:00:00</td>\n",
       "      <td>2019-05-29 10:32:00</td>\n",
       "      <td>AVE</td>\n",
       "      <td>69.40</td>\n",
       "      <td>1st class</td>\n",
       "      <td>Promo</td>\n",
       "      <td>Sevilla</td>\n",
       "    </tr>\n",
       "    <tr>\n",
       "      <th>5</th>\n",
       "      <td>2019-04-19 05:31:43</td>\n",
       "      <td>MADRID</td>\n",
       "      <td>SEVILLA</td>\n",
       "      <td>2019-05-29 09:00:00</td>\n",
       "      <td>2019-05-29 11:38:00</td>\n",
       "      <td>AVE</td>\n",
       "      <td>60.30</td>\n",
       "      <td>2nd class</td>\n",
       "      <td>Promo</td>\n",
       "      <td>Sevilla</td>\n",
       "    </tr>\n",
       "  </tbody>\n",
       "</table>\n",
       "</div>"
      ],
      "text/plain": [
       "          insert_date  origin destination          start_date  \\\n",
       "0 2019-04-19 05:31:43  MADRID     SEVILLA 2019-05-29 06:20:00   \n",
       "1 2019-04-19 05:31:43  MADRID     SEVILLA 2019-05-29 07:00:00   \n",
       "2 2019-04-19 05:31:43  MADRID     SEVILLA 2019-05-29 07:30:00   \n",
       "3 2019-04-19 05:31:43  MADRID     SEVILLA 2019-05-29 08:00:00   \n",
       "5 2019-04-19 05:31:43  MADRID     SEVILLA 2019-05-29 09:00:00   \n",
       "\n",
       "             end_date train_type  price train_class   fare location  \n",
       "0 2019-05-29 09:16:00    AV City  38.55   2nd class  Promo  Sevilla  \n",
       "1 2019-05-29 09:32:00        AVE  53.40   2nd class  Promo  Sevilla  \n",
       "2 2019-05-29 09:51:00        AVE  47.30   2nd class  Promo  Sevilla  \n",
       "3 2019-05-29 10:32:00        AVE  69.40   1st class  Promo  Sevilla  \n",
       "5 2019-05-29 11:38:00        AVE  60.30   2nd class  Promo  Sevilla  "
      ]
     },
     "execution_count": 13,
     "metadata": {},
     "output_type": "execute_result"
    }
   ],
   "source": [
    "# Change the Spanish names to English for the ticket classes.\n",
    "df['train_class'] = df['train_class'].map({'Cama G. Clase':'1st class overnight', 'Cama Turista':'2nd class overnight', 'Preferente':'1st class', 'Turista':'2nd class', 'Turista con enlace':'2nd class with a change', 'Turista Plus':'better 2nd class'})\n",
    "df.head()"
   ]
  },
  {
   "cell_type": "code",
   "execution_count": 14,
   "metadata": {},
   "outputs": [
    {
     "data": {
      "text/plain": [
       "2nd class                  75.945247\n",
       "1st class                   9.380501\n",
       "better 2nd class            8.019779\n",
       "2nd class with a change     6.602735\n",
       "2nd class overnight         0.043938\n",
       "1st class overnight         0.007800\n",
       "Name: train_class, dtype: float64"
      ]
     },
     "execution_count": 14,
     "metadata": {},
     "output_type": "execute_result"
    },
    {
     "data": {
      "image/png": "[encoded data removed]",
      "text/plain": [
       "<Figure size 432x288 with 1 Axes>"
      ]
     },
     "metadata": {
      "needs_background": "light"
     },
     "output_type": "display_data"
    }
   ],
   "source": [
    "# Get a count and distributions for the train_class column.\n",
    "sns.countplot(y = 'train_class',\n",
    "              data = df,\n",
    "              order = df['train_class'].value_counts().index)\n",
    "df['train_class'].value_counts()*100/df['train_class'].value_counts().sum()"
   ]
  },
  {
   "cell_type": "code",
   "execution_count": 15,
   "metadata": {},
   "outputs": [
    {
     "data": {
      "text/plain": [
       "Promo                  68.919875\n",
       "Flexible               20.451679\n",
       "Adulto ida              7.617547\n",
       "Promo +                 2.999440\n",
       "Individual-Flexible     0.007800\n",
       "Mesa                    0.003393\n",
       "Grupos Ida              0.000264\n",
       "Name: fare, dtype: float64"
      ]
     },
     "execution_count": 15,
     "metadata": {},
     "output_type": "execute_result"
    },
    {
     "data": {
      "image/png": "[encoded data removed]",
      "text/plain": [
       "<Figure size 432x288 with 1 Axes>"
      ]
     },
     "metadata": {
      "needs_background": "light"
     },
     "output_type": "display_data"
    }
   ],
   "source": [
    "# Get a count and distributions for the fare column.\n",
    "sns.countplot(y = 'fare',\n",
    "              data = df,\n",
    "              order = df['fare'].value_counts().index)\n",
    "df['fare'].value_counts()*100/df['fare'].value_counts().sum()"
   ]
  },
  {
   "cell_type": "code",
   "execution_count": 16,
   "metadata": {},
   "outputs": [
    {
     "data": {
      "image/png": "[encoded data removed]",
      "text/plain": [
       "<Figure size 432x288 with 1 Axes>"
      ]
     },
     "metadata": {
      "needs_background": "light"
     },
     "output_type": "display_data"
    },
    {
     "data": {
      "image/png": "[encoded data removed]",
      "text/plain": [
       "<Figure size 432x288 with 1 Axes>"
      ]
     },
     "metadata": {
      "needs_background": "light"
     },
     "output_type": "display_data"
    }
   ],
   "source": [
    "# Histogram and normal probability plot distribution for the prices of the tickets.\n",
    "sns.distplot(df['price'], fit=norm);\n",
    "fig = plt.figure()\n",
    "res = stats.probplot(df['price'], plot=plt)"
   ]
  },
  {
   "cell_type": "markdown",
   "metadata": {},
   "source": [
    "## Feature engineering\n",
    "\n",
    "Generating new features to make a better regression model!"
   ]
  },
  {
   "cell_type": "code",
   "execution_count": 17,
   "metadata": {},
   "outputs": [
    {
     "data": {
      "text/html": [
       "<div>\n",
       "<style scoped>\n",
       "    .dataframe tbody tr th:only-of-type {\n",
       "        vertical-align: middle;\n",
       "    }\n",
       "\n",
       "    .dataframe tbody tr th {\n",
       "        vertical-align: top;\n",
       "    }\n",
       "\n",
       "    .dataframe thead th {\n",
       "        text-align: right;\n",
       "    }\n",
       "</style>\n",
       "<table border=\"1\" class=\"dataframe\">\n",
       "  <thead>\n",
       "    <tr style=\"text-align: right;\">\n",
       "      <th></th>\n",
       "      <th>insert_date</th>\n",
       "      <th>origin</th>\n",
       "      <th>destination</th>\n",
       "      <th>start_date</th>\n",
       "      <th>end_date</th>\n",
       "      <th>train_type</th>\n",
       "      <th>price</th>\n",
       "      <th>train_class</th>\n",
       "      <th>fare</th>\n",
       "      <th>location</th>\n",
       "      <th>day_of_week</th>\n",
       "      <th>time_from_ticket_search_in_days</th>\n",
       "      <th>journey_length_in_hours</th>\n",
       "    </tr>\n",
       "  </thead>\n",
       "  <tbody>\n",
       "    <tr>\n",
       "      <th>0</th>\n",
       "      <td>2019-04-19 05:31:43</td>\n",
       "      <td>MADRID</td>\n",
       "      <td>SEVILLA</td>\n",
       "      <td>2019-05-29 06:20:00</td>\n",
       "      <td>2019-05-29 09:16:00</td>\n",
       "      <td>AV City</td>\n",
       "      <td>38.55</td>\n",
       "      <td>2nd class</td>\n",
       "      <td>Promo</td>\n",
       "      <td>Sevilla</td>\n",
       "      <td>Wednesday</td>\n",
       "      <td>40.033530</td>\n",
       "      <td>2.933333</td>\n",
       "    </tr>\n",
       "    <tr>\n",
       "      <th>1</th>\n",
       "      <td>2019-04-19 05:31:43</td>\n",
       "      <td>MADRID</td>\n",
       "      <td>SEVILLA</td>\n",
       "      <td>2019-05-29 07:00:00</td>\n",
       "      <td>2019-05-29 09:32:00</td>\n",
       "      <td>AVE</td>\n",
       "      <td>53.40</td>\n",
       "      <td>2nd class</td>\n",
       "      <td>Promo</td>\n",
       "      <td>Sevilla</td>\n",
       "      <td>Wednesday</td>\n",
       "      <td>40.061308</td>\n",
       "      <td>2.533333</td>\n",
       "    </tr>\n",
       "    <tr>\n",
       "      <th>2</th>\n",
       "      <td>2019-04-19 05:31:43</td>\n",
       "      <td>MADRID</td>\n",
       "      <td>SEVILLA</td>\n",
       "      <td>2019-05-29 07:30:00</td>\n",
       "      <td>2019-05-29 09:51:00</td>\n",
       "      <td>AVE</td>\n",
       "      <td>47.30</td>\n",
       "      <td>2nd class</td>\n",
       "      <td>Promo</td>\n",
       "      <td>Sevilla</td>\n",
       "      <td>Wednesday</td>\n",
       "      <td>40.082141</td>\n",
       "      <td>2.350000</td>\n",
       "    </tr>\n",
       "    <tr>\n",
       "      <th>3</th>\n",
       "      <td>2019-04-19 05:31:43</td>\n",
       "      <td>MADRID</td>\n",
       "      <td>SEVILLA</td>\n",
       "      <td>2019-05-29 08:00:00</td>\n",
       "      <td>2019-05-29 10:32:00</td>\n",
       "      <td>AVE</td>\n",
       "      <td>69.40</td>\n",
       "      <td>1st class</td>\n",
       "      <td>Promo</td>\n",
       "      <td>Sevilla</td>\n",
       "      <td>Wednesday</td>\n",
       "      <td>40.102975</td>\n",
       "      <td>2.533333</td>\n",
       "    </tr>\n",
       "    <tr>\n",
       "      <th>5</th>\n",
       "      <td>2019-04-19 05:31:43</td>\n",
       "      <td>MADRID</td>\n",
       "      <td>SEVILLA</td>\n",
       "      <td>2019-05-29 09:00:00</td>\n",
       "      <td>2019-05-29 11:38:00</td>\n",
       "      <td>AVE</td>\n",
       "      <td>60.30</td>\n",
       "      <td>2nd class</td>\n",
       "      <td>Promo</td>\n",
       "      <td>Sevilla</td>\n",
       "      <td>Wednesday</td>\n",
       "      <td>40.144641</td>\n",
       "      <td>2.633333</td>\n",
       "    </tr>\n",
       "  </tbody>\n",
       "</table>\n",
       "</div>"
      ],
      "text/plain": [
       "          insert_date  origin destination          start_date  \\\n",
       "0 2019-04-19 05:31:43  MADRID     SEVILLA 2019-05-29 06:20:00   \n",
       "1 2019-04-19 05:31:43  MADRID     SEVILLA 2019-05-29 07:00:00   \n",
       "2 2019-04-19 05:31:43  MADRID     SEVILLA 2019-05-29 07:30:00   \n",
       "3 2019-04-19 05:31:43  MADRID     SEVILLA 2019-05-29 08:00:00   \n",
       "5 2019-04-19 05:31:43  MADRID     SEVILLA 2019-05-29 09:00:00   \n",
       "\n",
       "             end_date train_type  price train_class   fare location  \\\n",
       "0 2019-05-29 09:16:00    AV City  38.55   2nd class  Promo  Sevilla   \n",
       "1 2019-05-29 09:32:00        AVE  53.40   2nd class  Promo  Sevilla   \n",
       "2 2019-05-29 09:51:00        AVE  47.30   2nd class  Promo  Sevilla   \n",
       "3 2019-05-29 10:32:00        AVE  69.40   1st class  Promo  Sevilla   \n",
       "5 2019-05-29 11:38:00        AVE  60.30   2nd class  Promo  Sevilla   \n",
       "\n",
       "  day_of_week  time_from_ticket_search_in_days  journey_length_in_hours  \n",
       "0   Wednesday                        40.033530                 2.933333  \n",
       "1   Wednesday                        40.061308                 2.533333  \n",
       "2   Wednesday                        40.082141                 2.350000  \n",
       "3   Wednesday                        40.102975                 2.533333  \n",
       "5   Wednesday                        40.144641                 2.633333  "
      ]
     },
     "execution_count": 17,
     "metadata": {},
     "output_type": "execute_result"
    }
   ],
   "source": [
    "# Feature engineer new parameters\n",
    "df['day_of_week'] = df['start_date'].dt.day_name()\n",
    "df['time_from_ticket_search_in_days'] = (df['start_date'] - df['insert_date']).dt.total_seconds() / 86400 \n",
    "df['journey_length_in_hours'] = (df['end_date'] - df['start_date']).dt.total_seconds()/3600\n",
    "df.head()"
   ]
  },
  {
   "cell_type": "code",
   "execution_count": 18,
   "metadata": {},
   "outputs": [],
   "source": [
    "# Remove any values that had been incorrectly labeled (time_from_ticket_search_in_days below 0).\n",
    "df = df.loc[df['time_from_ticket_search_in_days'] > 0, :]"
   ]
  },
  {
   "cell_type": "code",
   "execution_count": 19,
   "metadata": {},
   "outputs": [
    {
     "data": {
      "text/plain": [
       "<matplotlib.axes._subplots.AxesSubplot at 0x26922cd38d0>"
      ]
     },
     "execution_count": 19,
     "metadata": {},
     "output_type": "execute_result"
    },
    {
     "data": {
      "image/png": "[encoded data removed]",
      "text/plain": [
       "<Figure size 432x288 with 1 Axes>"
      ]
     },
     "metadata": {
      "needs_background": "light"
     },
     "output_type": "display_data"
    }
   ],
   "source": [
    "# Compare prices between days of the week and order the boxplots by increasing median values.\n",
    "my_order = df.groupby(by=['day_of_week'])['price'].median().sort_values(ascending=True).index\n",
    "sns.boxplot(y='day_of_week', x='price', data=df, order=my_order)"
   ]
  },
  {
   "cell_type": "code",
   "execution_count": 20,
   "metadata": {
    "scrolled": true
   },
   "outputs": [
    {
     "data": {
      "text/plain": [
       "<matplotlib.axes._subplots.AxesSubplot at 0x26907988f60>"
      ]
     },
     "execution_count": 20,
     "metadata": {},
     "output_type": "execute_result"
    },
    {
     "data": {
      "image/png": "[encoded data removed]",
      "text/plain": [
       "<Figure size 432x288 with 1 Axes>"
      ]
     },
     "metadata": {
      "needs_background": "light"
     },
     "output_type": "display_data"
    }
   ],
   "source": [
    "# Look at the price distributions of train companies. Sorted by median value.\n",
    "my_order = df.groupby(by=['train_type'])['price'].median().sort_values(ascending=True).index\n",
    "sns.boxplot(y='train_type', x='price', data=df, order=my_order)"
   ]
  },
  {
   "cell_type": "code",
   "execution_count": 21,
   "metadata": {},
   "outputs": [
    {
     "data": {
      "text/plain": [
       "<matplotlib.axes._subplots.AxesSubplot at 0x26907ab81d0>"
      ]
     },
     "execution_count": 21,
     "metadata": {},
     "output_type": "execute_result"
    },
    {
     "data": {
      "image/png": "[encoded data removed]",
      "text/plain": [
       "<Figure size 432x288 with 1 Axes>"
      ]
     },
     "metadata": {
      "needs_background": "light"
     },
     "output_type": "display_data"
    }
   ],
   "source": [
    "# Look at the price distributions of fares. Sorted by median value.\n",
    "my_order = df.groupby(by=['location'])['price'].median().sort_values(ascending=True).index\n",
    "sns.boxplot(y='location', x='price', data=df, order=my_order)"
   ]
  },
  {
   "cell_type": "code",
   "execution_count": 22,
   "metadata": {},
   "outputs": [
    {
     "data": {
      "image/png": "[encoded data removed]",
      "text/plain": [
       "<Figure size 432x288 with 1 Axes>"
      ]
     },
     "metadata": {
      "needs_background": "light"
     },
     "output_type": "display_data"
    },
    {
     "data": {
      "image/png": "[encoded data removed]",
      "text/plain": [
       "<Figure size 432x288 with 1 Axes>"
      ]
     },
     "metadata": {
      "needs_background": "light"
     },
     "output_type": "display_data"
    },
    {
     "data": {
      "image/png": "[encoded data removed]",
      "text/plain": [
       "<Figure size 432x288 with 1 Axes>"
      ]
     },
     "metadata": {
      "needs_background": "light"
     },
     "output_type": "display_data"
    }
   ],
   "source": [
    "# Checking if there is correlation between price and other numerical columns.\n",
    "for val in df.select_dtypes(np.number).columns:\n",
    "    sns.regplot(df[val], df['price'], marker='+')\n",
    "    plt.show()"
   ]
  },
  {
   "cell_type": "markdown",
   "metadata": {},
   "source": [
    "It seems there is no correlation between duration of the journey and price. There is a slight correlation between a time of purchase of the tickets and prices."
   ]
  },
  {
   "cell_type": "markdown",
   "metadata": {},
   "source": [
    "## Preparing the data for regression\n",
    "\n",
    "* Make y and X with target variable and features respectively.\n",
    "* Split the dataset into training and test dataset.\n",
    "* Encode all categorical features into numerical values.\n",
    "* Run XGboost with early stopping rounds, to ensure it stops when the evaluation on test set starts dropping.\n",
    "* Evaluate the test set"
   ]
  },
  {
   "cell_type": "code",
   "execution_count": 23,
   "metadata": {},
   "outputs": [],
   "source": [
    "from sklearn.model_selection import train_test_split\n",
    "from sklearn.preprocessing import LabelEncoder\n",
    "import xgboost as xgb\n",
    "\n",
    "y = df['price']\n",
    "X = df[['day_of_week', 'time_from_ticket_search_in_days', 'journey_length_in_hours', 'location', 'train_type', 'train_class', 'fare']].copy()\n",
    "\n",
    "lb_make = LabelEncoder()\n",
    "for val in X.select_dtypes(object).columns:\n",
    "    X[val] = lb_make.fit_transform(X[val])\n",
    "\n",
    "X_train, X_test, y_train, y_test = train_test_split(X, y, test_size=0.2, random_state=17)"
   ]
  },
  {
   "cell_type": "code",
   "execution_count": 24,
   "metadata": {},
   "outputs": [
    {
     "name": "stderr",
     "output_type": "stream",
     "text": [
      "C:\\Users\\Jan\\Anaconda3\\lib\\site-packages\\xgboost\\core.py:587: FutureWarning: Series.base is deprecated and will be removed in a future version\n",
      "  if getattr(data, 'base', None) is not None and \\\n"
     ]
    },
    {
     "name": "stdout",
     "output_type": "stream",
     "text": [
      "[14:19:58] WARNING: src/objective/regression_obj.cu:152: reg:linear is now deprecated in favor of reg:squarederror.\n"
     ]
    },
    {
     "data": {
      "text/plain": [
       "XGBRegressor(base_score=0.5, booster='gbtree', colsample_bylevel=1,\n",
       "       colsample_bynode=1, colsample_bytree=1, gamma=0,\n",
       "       importance_type='gain', learning_rate=0.05, max_delta_step=0,\n",
       "       max_depth=3, min_child_weight=1, missing=None, n_estimators=1000,\n",
       "       n_jobs=8, nthread=None, objective='reg:linear', random_state=0,\n",
       "       reg_alpha=0, reg_lambda=1, scale_pos_weight=1, seed=None,\n",
       "       silent=None, subsample=1, verbosity=1)"
      ]
     },
     "execution_count": 24,
     "metadata": {},
     "output_type": "execute_result"
    }
   ],
   "source": [
    "from xgboost import XGBRegressor\n",
    "\n",
    "my_model = XGBRegressor(n_estimators=1000, learning_rate=0.05, n_jobs=8)\n",
    "my_model.fit(X_train, y_train, early_stopping_rounds=5, eval_set=[(X_test, y_test)], verbose=False)"
   ]
  },
  {
   "cell_type": "code",
   "execution_count": 25,
   "metadata": {},
   "outputs": [
    {
     "data": {
      "image/png": "[encoded data removed]",
      "text/plain": [
       "<Figure size 432x288 with 1 Axes>"
      ]
     },
     "metadata": {
      "needs_background": "light"
     },
     "output_type": "display_data"
    }
   ],
   "source": [
    "from xgboost import plot_importance\n",
    "from matplotlib import pyplot\n",
    "\n",
    "plot_importance(my_model)\n",
    "pyplot.show()"
   ]
  },
  {
   "cell_type": "code",
   "execution_count": 26,
   "metadata": {},
   "outputs": [
    {
     "name": "stdout",
     "output_type": "stream",
     "text": [
      "Test the model on the validation set: \n",
      "\n",
      "Mean Absolute Error : 5.499596103504778\n",
      "R-squared of 0.8974530480613421\n"
     ]
    }
   ],
   "source": [
    "from sklearn.metrics import mean_absolute_error\n",
    "from sklearn.metrics import r2_score\n",
    "\n",
    "predictions = my_model.predict(X_test)\n",
    "\n",
    "r2_validation = r2_score(y_test, predictions)\n",
    "percent_value = str(r2_validation*100) + '%'\n",
    "\n",
    "print('Test the model on the validation set: \\n')\n",
    "print('Mean Absolute Error : ' + str(mean_absolute_error(y_test, predictions)))\n",
    "print('R-squared of ' + str(r2_validation))"
   ]
  },
  {
   "cell_type": "markdown",
   "metadata": {},
   "source": [
    "R-squared score of 0.8974 means that we can explain 89.74% of the variance in the data which is a pretty high score!"
   ]
  },
  {
   "cell_type": "markdown",
   "metadata": {},
   "source": [
    "## Future plans:\n",
    " * Explore SHAP library to visualise the gradient boosting model better\n",
    " \n",
    "Go back to my [portfolio](https://github.com/JanAdamiak/data_science_portfolio)"
   ]
  }
 ],
 "metadata": {
  "kernelspec": {
   "display_name": "Python 3",
   "language": "python",
   "name": "python3"
  },
  "language_info": {
   "codemirror_mode": {
    "name": "ipython",
    "version": 3
   },
   "file_extension": ".py",
   "mimetype": "text/x-python",
   "name": "python",
   "nbconvert_exporter": "python",
   "pygments_lexer": "ipython3",
   "version": "3.7.1"
  }
 },
 "nbformat": 4,
 "nbformat_minor": 4
}
